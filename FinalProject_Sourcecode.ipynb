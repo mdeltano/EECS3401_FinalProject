{
  "nbformat": 4,
  "nbformat_minor": 0,
  "metadata": {
    "colab": {
      "provenance": []
    },
    "kernelspec": {
      "name": "python3",
      "display_name": "Python 3"
    },
    "language_info": {
      "name": "python"
    }
  },
  "cells": [
    {
      "cell_type": "code",
      "source": [],
      "metadata": {
        "id": "r2vvlmsyyTNP"
      },
      "execution_count": null,
      "outputs": []
    },
    {
      "cell_type": "markdown",
      "source": [
        "**Code attribution**\n",
        "\n",
        "Following code is attributed to Ruba Alomari (https://github.com/rubaomari/data/blob/main/student/student-mat-modified-RA.txt)."
      ],
      "metadata": {
        "id": "OedJAGldyU2a"
      }
    },
    {
      "cell_type": "code",
      "source": [
        "# Import libraries\n",
        "import sklearn\n",
        "import numpy as np\n",
        "import pandas as pd\n",
        "import matplotlib.pyplot as plt\n",
        "import seaborn as sns"
      ],
      "metadata": {
        "id": "Gix1ObRQyeB1"
      },
      "execution_count": null,
      "outputs": []
    },
    {
      "cell_type": "code",
      "execution_count": null,
      "metadata": {
        "id": "qWRFyhkmyCUL"
      },
      "outputs": [],
      "source": [
        "# Download the dataset\n",
        "url = \"https://raw.githubusercontent.com/mdeltano/sdata/main/2022-2023%20Football%20Player%20Stats.csv\"\n",
        "players = pd.read_csv(url, sep=';', encoding='latin-1')\n",
        "\n",
        "# Create a backup copy of the dataset\n",
        "players_backup = players"
      ]
    },
    {
      "cell_type": "code",
      "source": [
        "players"
      ],
      "metadata": {
        "id": "vY7Se1l0ynvV"
      },
      "execution_count": null,
      "outputs": []
    },
    {
      "cell_type": "code",
      "source": [
        "# Look at the first 5 rows\n",
        "players.head()"
      ],
      "metadata": {
        "id": "eYLM_uuxyq9B"
      },
      "execution_count": null,
      "outputs": []
    },
    {
      "cell_type": "code",
      "source": [
        "# Look at a summary of the numerical attributes\n",
        "players.describe()"
      ],
      "metadata": {
        "id": "qEhivEHcyvoZ"
      },
      "execution_count": null,
      "outputs": []
    },
    {
      "cell_type": "code",
      "source": [
        "# Look at a quick description of the data\n",
        "players.info()"
      ],
      "metadata": {
        "id": "oZDUuRCuyxkG"
      },
      "execution_count": null,
      "outputs": []
    },
    {
      "cell_type": "code",
      "source": [
        "# Look at the categorical data, example: the variable \"Pos\"\n",
        "players[\"Pos\"].value_counts()"
      ],
      "metadata": {
        "id": "PfQwV-fwyzbP"
      },
      "execution_count": null,
      "outputs": []
    },
    {
      "cell_type": "code",
      "source": [
        "# Checking for correlations with regard to our target\n",
        "pd.set_option('display.max_rows', None)\n",
        "corr_matrix = players.corr(numeric_only=True)\n",
        "corr_matrix[\"Goals\"].sort_values(ascending=False).head(10)"
      ],
      "metadata": {
        "id": "iG0_xlH8y2ZO"
      },
      "execution_count": null,
      "outputs": []
    },
    {
      "cell_type": "code",
      "source": [
        "# Plot G/SoT vs. Goals\n",
        "g = sns.lineplot(x=\"G/SoT\", y=\"Goals\", data=players, errorbar=None)"
      ],
      "metadata": {
        "id": "jLXJGJSby5le"
      },
      "execution_count": null,
      "outputs": []
    },
    {
      "cell_type": "code",
      "source": [
        "# Create a scatterplot of G/SoT and Goals\n",
        "X = players[\"G/SoT\"]\n",
        "y = players[\"Goals\"]\n",
        "\n",
        "# Plot points\n",
        "fig, pl = plt.subplots()\n",
        "pl.scatter(X, y, color = 'b')\n",
        "plt.xlabel(\"G/SoT\")\n",
        "plt.ylabel(\"Goals\")"
      ],
      "metadata": {
        "id": "etKIN24Iy7aM"
      },
      "execution_count": null,
      "outputs": []
    },
    {
      "cell_type": "code",
      "source": [
        "# Check for duplicate rows and delete them\n",
        "players.duplicated().sum()"
      ],
      "metadata": {
        "id": "LwUFuVP6y8HR"
      },
      "execution_count": null,
      "outputs": []
    },
    {
      "cell_type": "code",
      "source": [
        "# Remove duplicates\n",
        "players.drop_duplicates(inplace=True)"
      ],
      "metadata": {
        "id": "WQT_HPfDy_nG"
      },
      "execution_count": null,
      "outputs": []
    },
    {
      "cell_type": "code",
      "source": [
        "# Find the number of missing values in each column\n",
        "players.isna().sum()"
      ],
      "metadata": {
        "id": "569QAJLizBLE"
      },
      "execution_count": null,
      "outputs": []
    },
    {
      "cell_type": "code",
      "source": [
        "# Dropping features\n",
        "players.drop(labels=['Player'], axis=1, inplace=True)\n",
        "players.drop(labels=['Rk'], axis=1, inplace=True)"
      ],
      "metadata": {
        "id": "kUvn0RYczBsg"
      },
      "execution_count": null,
      "outputs": []
    },
    {
      "cell_type": "code",
      "source": [
        "from sklearn.compose import ColumnTransformer\n",
        "from sklearn.pipeline import make_pipeline\n",
        "from sklearn.preprocessing import OneHotEncoder\n",
        "from sklearn.impute import SimpleImputer\n",
        "from sklearn.preprocessing import StandardScaler"
      ],
      "metadata": {
        "id": "3F8-l0PfzGLe"
      },
      "execution_count": null,
      "outputs": []
    },
    {
      "cell_type": "code",
      "source": [
        "# Create the cat and num columns\n",
        "num_cols = players.select_dtypes(include='number').columns.to_list()\n",
        "cat_cols = players.select_dtypes(exclude='number').columns.to_list()\n",
        "\n",
        "\n",
        "# Exclude the target from numerical columns\n",
        "num_cols.remove(\"Goals\")\n",
        "\n",
        "\n",
        "# Create pipelines for numeric and categorical columns\n",
        "num_pipeline = make_pipeline(SimpleImputer(strategy='mean'), StandardScaler())\n",
        "cat_pipeline = make_pipeline(SimpleImputer(strategy='most_frequent'), OneHotEncoder(sparse_output=False))\n",
        "\n",
        "# Use ColumnTransformer to set the estimators and transformations\n",
        "preprocessing = ColumnTransformer([('num', num_pipeline, num_cols),\n",
        "                                   ('cat', cat_pipeline, cat_cols)],\n",
        "                                    remainder='passthrough'\n",
        "                                 )\n",
        "preprocessing.set_output(transform=\"pandas\")\n",
        "\n",
        "# Show the pipeline\n",
        "preprocessing"
      ],
      "metadata": {
        "id": "_TylN12OzLZx"
      },
      "execution_count": null,
      "outputs": []
    },
    {
      "cell_type": "code",
      "source": [
        "# Apply the preprocessing pipeline on the dataset\n",
        "players_prepared = preprocessing.fit_transform(players)\n",
        "\n",
        "\n",
        "# Scikit-learn strips the column headers in most cases, so just add them back on afterward\n",
        "feature_names=preprocessing.get_feature_names_out()\n",
        "players_prepared = pd.DataFrame(data=players_prepared, columns=feature_names)\n",
        "\n",
        "players_prepared"
      ],
      "metadata": {
        "id": "vt6TSV46zMPb"
      },
      "execution_count": null,
      "outputs": []
    },
    {
      "cell_type": "code",
      "source": [
        "from sklearn.model_selection import train_test_split\n",
        "\n",
        "X = players_prepared.drop([\"remainder__Goals\"], axis=1)\n",
        "y = players_prepared[\"remainder__Goals\"]\n",
        "\n",
        "X_train, X_test, y_train, y_test = train_test_split(X, y, test_size=0.2, random_state=42)\n",
        "print(X_train.shape, y_train.shape, X_test.shape, y_test.shape)"
      ],
      "metadata": {
        "id": "XCYaj7yWzQUD"
      },
      "execution_count": null,
      "outputs": []
    },
    {
      "cell_type": "code",
      "source": [
        "import pandas as pd\n",
        "from sklearn.ensemble import RandomForestClassifier\n",
        "from sklearn.feature_selection import SelectFromModel"
      ],
      "metadata": {
        "id": "7M4szdFWzSpE"
      },
      "execution_count": null,
      "outputs": []
    },
    {
      "cell_type": "code",
      "source": [
        "sel = SelectFromModel(RandomForestClassifier())\n",
        "sel.fit(X_train, y_train)"
      ],
      "metadata": {
        "id": "TRuGor2HzUkB"
      },
      "execution_count": null,
      "outputs": []
    },
    {
      "cell_type": "code",
      "source": [
        "sel.get_support()"
      ],
      "metadata": {
        "id": "pAZDeAJjzWF4"
      },
      "execution_count": null,
      "outputs": []
    },
    {
      "cell_type": "code",
      "source": [
        "selected_feat= X_train.columns[(sel.get_support())]\n",
        "len(selected_feat)"
      ],
      "metadata": {
        "id": "a9PMvYT2zXnE"
      },
      "execution_count": null,
      "outputs": []
    },
    {
      "cell_type": "code",
      "source": [
        "print(selected_feat)"
      ],
      "metadata": {
        "id": "iAzsC58EzZxi"
      },
      "execution_count": null,
      "outputs": []
    },
    {
      "cell_type": "code",
      "source": [
        "from sklearn.linear_model import LinearRegression\n",
        "\n",
        "lr_model = LinearRegression()\n",
        "lr_model.fit(X_train, y_train)"
      ],
      "metadata": {
        "id": "AWfmMHLqzcBb"
      },
      "execution_count": null,
      "outputs": []
    },
    {
      "cell_type": "code",
      "source": [
        "# Predict the outcome of the test data\n",
        "\n",
        "lr_y_predict = lr_model.predict(X_test)\n",
        "\n",
        "from sklearn.metrics import mean_squared_error as mse\n",
        "lr_mse=mse(y_test, lr_y_predict)\n",
        "lr_mse"
      ],
      "metadata": {
        "id": "_UV8ewcjzf-x"
      },
      "execution_count": null,
      "outputs": []
    },
    {
      "cell_type": "code",
      "source": [
        "from sklearn.model_selection import cross_val_score, KFold\n",
        "\n",
        "scores = cross_val_score(lr_model, X_train, y_train, cv=5, scoring='neg_mean_squared_error')\n",
        "\n",
        "scores"
      ],
      "metadata": {
        "id": "fa8QFnrizgjQ"
      },
      "execution_count": null,
      "outputs": []
    },
    {
      "cell_type": "code",
      "source": [
        "mean_score = -scores.mean()  # Take the negative value to get the mean squared error\n",
        "\n",
        "print(f'Cross-Validation Mean Score: {mean_score}')"
      ],
      "metadata": {
        "id": "CbwwzJdRzjhY"
      },
      "execution_count": null,
      "outputs": []
    },
    {
      "cell_type": "code",
      "source": [
        "from sklearn.linear_model import LinearRegression, Ridge, Lasso\n",
        "\n",
        "RidgeRegression = Ridge(alpha=1)\n",
        "ridge_model = RidgeRegression.fit(X_train, y_train)\n",
        "\n",
        "LassoRegression = Lasso(alpha=1)\n",
        "lasso_model = LassoRegression.fit(X_train, y_train)"
      ],
      "metadata": {
        "id": "iwzbhnxAzlgt"
      },
      "execution_count": null,
      "outputs": []
    },
    {
      "cell_type": "code",
      "source": [
        "Ridge_y_predict = ridge_model.predict(X_test)\n",
        "Lasso_y_predict = lasso_model.predict(X_test)\n",
        "ridge_mse = mse(y_test, Ridge_y_predict)\n",
        "lasso_mse=mse(y_test, Lasso_y_predict)"
      ],
      "metadata": {
        "id": "lv42UM1eznhY"
      },
      "execution_count": null,
      "outputs": []
    },
    {
      "cell_type": "code",
      "source": [
        "print(f'Linear Regression MSE: {lr_mse}')\n",
        "print(f'Cross-Validation MSE: {mean_score}')\n",
        "print(f'Ridge Regression MSE: {ridge_mse}')\n",
        "print(f'Lasso Regression MSE: {lasso_mse}')"
      ],
      "metadata": {
        "id": "t5r7bJJ7zzUl"
      },
      "execution_count": null,
      "outputs": []
    },
    {
      "cell_type": "code",
      "source": [
        "import matplotlib.pyplot as plt\n",
        "\n",
        "# 'ridge_model' is the best performing trained linear regression model\n",
        "Ridge_y_predict = ridge_model.predict(X_test)  # X is your feature data\n",
        "plt.scatter(Ridge_y_predict, y_test)  # y is your actual target values\n",
        "plt.xlabel(\"Goals Predicted Values\")\n",
        "plt.ylabel(\"Goals Actual Values\")\n",
        "plt.title(\"Predicted vs. Actual Values\")\n",
        "plt.show()"
      ],
      "metadata": {
        "id": "_9KJzzRpz22N"
      },
      "execution_count": null,
      "outputs": []
    },
    {
      "cell_type": "code",
      "source": [
        "sns.lineplot(x=Ridge_y_predict, y=y_test, errorbar=None)"
      ],
      "metadata": {
        "id": "SXh-b0W9z4ri"
      },
      "execution_count": null,
      "outputs": []
    },
    {
      "cell_type": "code",
      "source": [
        "from pandas import Series\n",
        "predictors = X_train.columns\n",
        "coef = Series(ridge_model.coef_,predictors).sort_values()\n",
        "coef.plot(kind='bar', title='Model Coefficients')\n",
        "\n",
        "#Attribute https://www.analyticsvidhya.com/blog/2017/06/a-comprehensive-guide-for-linear-ridge-and-lasso-regression/"
      ],
      "metadata": {
        "id": "ozhc6EQwz5Rw"
      },
      "execution_count": null,
      "outputs": []
    },
    {
      "cell_type": "code",
      "source": [],
      "metadata": {
        "id": "gO3Cr_fXz781"
      },
      "execution_count": null,
      "outputs": []
    }
  ]
}